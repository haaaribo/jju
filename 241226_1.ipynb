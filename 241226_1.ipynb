{
 "cells": [
  {
   "cell_type": "markdown",
   "metadata": {
    "id": "-12xgcfFL5Cb"
   },
   "source": [
    "# 1. 키확인"
   ]
  },
  {
   "cell_type": "code",
   "execution_count": 3,
   "metadata": {
    "executionInfo": {
     "elapsed": 420,
     "status": "ok",
     "timestamp": 1735187072062,
     "user": {
      "displayName": "유상민",
      "userId": "13412534722180768201"
     },
     "user_tz": -540
    },
    "id": "xo3ueWmOL4sS"
   },
   "outputs": [],
   "source": [
    "import os\n",
    "\n",
    "#os.environ['OPENAI_API_KEY'] = ''"
   ]
  },
  {
   "cell_type": "code",
   "execution_count": null,
   "metadata": {
    "id": "tYJDqCF4PeoF"
   },
   "outputs": [],
   "source": []
  },
  {
   "cell_type": "markdown",
   "metadata": {
    "id": "OJHTTD86OAKm"
   },
   "source": [
    "# 2. 키 유효성 확인"
   ]
  },
  {
   "cell_type": "markdown",
   "metadata": {
    "id": "Wy1L7sP1N_hn"
   },
   "source": []
  },
  {
   "cell_type": "code",
   "execution_count": null,
   "metadata": {
    "id": "pZRDKRPMNWxX"
   },
   "outputs": [],
   "source": [
    "print(f'[API KEY]\\n{(os.environ[\"OPENAI_API_KEY\"][:-15])}' + '*' * 15)"
   ]
  }
 ],
 "metadata": {
  "colab": {
   "authorship_tag": "ABX9TyPePl1FYbjwFklNwrJPezEh",
   "provenance": []
  },
  "kernelspec": {
   "display_name": "base",
   "language": "python",
   "name": "python3"
  },
  "language_info": {
   "name": "python",
   "version": "3.9.12"
  }
 },
 "nbformat": 4,
 "nbformat_minor": 0
}
